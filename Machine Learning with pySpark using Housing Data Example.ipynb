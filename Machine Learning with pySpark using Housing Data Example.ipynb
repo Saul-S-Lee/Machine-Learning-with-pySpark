{
 "cells": [
  {
   "cell_type": "markdown",
   "metadata": {},
   "source": [
    "## pySpark Exploration through Housing Data Example\n",
    "\n",
    "### Purpose: Demonstrate machine learning workflow using pySpark Dataframes and built-in ML library\n",
    "\n",
    "#### Example adapted from https://www.datacamp.com/community/tutorials/apache-spark-tutorial-machine-learning\n",
    "#### Data source: http://www.dcc.fc.up.pt/~ltorgo/Regression/cal_housing.html\n",
    "\n",
    "Date: 2018-11\n",
    "By: Saul Lee"
   ]
  },
  {
   "cell_type": "code",
   "execution_count": 1,
   "metadata": {},
   "outputs": [],
   "source": [
    "### Import the necessary packages\n",
    "\n",
    "\n",
    "from matplotlib import pyplot as plt\n",
    "import numpy as np\n",
    "\n",
    "from pyspark.ml import Pipeline \n",
    "from pyspark.ml.evaluation import BinaryClassificationEvaluator, RegressionEvaluator\n",
    "from pyspark.ml.feature import StandardScaler\n",
    "from pyspark.ml.linalg import DenseVector\n",
    "from pyspark.ml.regression import LinearRegression\n",
    "from pyspark.ml.tuning import CrossValidator, ParamGridBuilder\n",
    "\n",
    "from pyspark.sql import SparkSession\n",
    "from pyspark.sql.functions import *\n",
    "from pyspark.sql.types import FloatType, StructField, StructType\n",
    "\n",
    "\n",
    "\n",
    "import seaborn as sns\n",
    "\n",
    "%matplotlib inline"
   ]
  },
  {
   "cell_type": "code",
   "execution_count": 2,
   "metadata": {},
   "outputs": [],
   "source": [
    "# create a spark session\n",
    "\n",
    "sc = SparkSession \\\n",
    "    .builder \\\n",
    "    .appName(\"Housing Data Example\") \\\n",
    "    .getOrCreate()"
   ]
  },
  {
   "cell_type": "markdown",
   "metadata": {},
   "source": [
    "## 0. Data loading and exploration"
   ]
  },
  {
   "cell_type": "code",
   "execution_count": 3,
   "metadata": {},
   "outputs": [],
   "source": [
    "# load sample data\n",
    "filename = \"CaliforniaHousing/cal_housing.data\"\n",
    "header_list = [\"longitude\",\"latitude\",\"houseMedianAge\",\"totalRooms\", \\\n",
    "          \"totalBedrooms\",\"population\",\"households\",\"medianIncome\",\"medianHouseValue\"]"
   ]
  },
  {
   "cell_type": "code",
   "execution_count": 4,
   "metadata": {},
   "outputs": [],
   "source": [
    "# build the schema struct\n",
    "\n",
    "fields = []\n",
    "\n",
    "for field_name in header_list:\n",
    "    fields.append(StructField(field_name, FloatType(), True))\n",
    "\n",
    "schema = StructType(fields)"
   ]
  },
  {
   "cell_type": "code",
   "execution_count": 5,
   "metadata": {},
   "outputs": [],
   "source": [
    "# read in the csv as a dataframe\n",
    "df = sc.read.csv(filename,\n",
    "                 header=\"false\",\n",
    "                 schema=schema,\n",
    "                 ignoreLeadingWhiteSpace=True,\n",
    "                 ignoreTrailingWhiteSpace=True)"
   ]
  },
  {
   "cell_type": "code",
   "execution_count": 6,
   "metadata": {},
   "outputs": [
    {
     "data": {
      "text/plain": [
       "['longitude',\n",
       " 'latitude',\n",
       " 'houseMedianAge',\n",
       " 'totalRooms',\n",
       " 'totalBedrooms',\n",
       " 'population',\n",
       " 'households',\n",
       " 'medianIncome',\n",
       " 'medianHouseValue']"
      ]
     },
     "execution_count": 6,
     "metadata": {},
     "output_type": "execute_result"
    }
   ],
   "source": [
    "# get the columns\n",
    "df.columns"
   ]
  },
  {
   "cell_type": "code",
   "execution_count": 7,
   "metadata": {},
   "outputs": [
    {
     "name": "stdout",
     "output_type": "stream",
     "text": [
      "root\n",
      " |-- longitude: float (nullable = true)\n",
      " |-- latitude: float (nullable = true)\n",
      " |-- houseMedianAge: float (nullable = true)\n",
      " |-- totalRooms: float (nullable = true)\n",
      " |-- totalBedrooms: float (nullable = true)\n",
      " |-- population: float (nullable = true)\n",
      " |-- households: float (nullable = true)\n",
      " |-- medianIncome: float (nullable = true)\n",
      " |-- medianHouseValue: float (nullable = true)\n",
      "\n"
     ]
    }
   ],
   "source": [
    "# get the schema\n",
    "df.printSchema()"
   ]
  },
  {
   "cell_type": "code",
   "execution_count": 8,
   "metadata": {},
   "outputs": [
    {
     "name": "stdout",
     "output_type": "stream",
     "text": [
      "+---------+--------+--------------+----------+-------------+----------+----------+------------+----------------+\n",
      "|longitude|latitude|houseMedianAge|totalRooms|totalBedrooms|population|households|medianIncome|medianHouseValue|\n",
      "+---------+--------+--------------+----------+-------------+----------+----------+------------+----------------+\n",
      "|  -122.23|   37.88|          41.0|     880.0|        129.0|     322.0|     126.0|      8.3252|        452600.0|\n",
      "|  -122.22|   37.86|          21.0|    7099.0|       1106.0|    2401.0|    1138.0|      8.3014|        358500.0|\n",
      "|  -122.24|   37.85|          52.0|    1467.0|        190.0|     496.0|     177.0|      7.2574|        352100.0|\n",
      "|  -122.25|   37.85|          52.0|    1274.0|        235.0|     558.0|     219.0|      5.6431|        341300.0|\n",
      "|  -122.25|   37.85|          52.0|    1627.0|        280.0|     565.0|     259.0|      3.8462|        342200.0|\n",
      "|  -122.25|   37.85|          52.0|     919.0|        213.0|     413.0|     193.0|      4.0368|        269700.0|\n",
      "|  -122.25|   37.84|          52.0|    2535.0|        489.0|    1094.0|     514.0|      3.6591|        299200.0|\n",
      "|  -122.25|   37.84|          52.0|    3104.0|        687.0|    1157.0|     647.0|        3.12|        241400.0|\n",
      "|  -122.26|   37.84|          42.0|    2555.0|        665.0|    1206.0|     595.0|      2.0804|        226700.0|\n",
      "|  -122.25|   37.84|          52.0|    3549.0|        707.0|    1551.0|     714.0|      3.6912|        261100.0|\n",
      "+---------+--------+--------------+----------+-------------+----------+----------+------------+----------------+\n",
      "only showing top 10 rows\n",
      "\n"
     ]
    }
   ],
   "source": [
    "df.show(10)"
   ]
  },
  {
   "cell_type": "code",
   "execution_count": 9,
   "metadata": {},
   "outputs": [
    {
     "name": "stdout",
     "output_type": "stream",
     "text": [
      "+-------+-------------------+-----------------+------------------+------------------+-----------------+------------------+-----------------+------------------+------------------+\n",
      "|summary|          longitude|         latitude|    houseMedianAge|        totalRooms|    totalBedrooms|        population|       households|      medianIncome|  medianHouseValue|\n",
      "+-------+-------------------+-----------------+------------------+------------------+-----------------+------------------+-----------------+------------------+------------------+\n",
      "|  count|              20640|            20640|             20640|             20640|            20640|             20640|            20640|             20640|             20640|\n",
      "|   mean|-119.56970444871473|35.63186143109965|28.639486434108527|2635.7630813953488|537.8980135658915|1425.4767441860465|499.5396802325581|3.8706710030346416|206855.81690891474|\n",
      "| stddev|  2.003531742932898|2.135952380602968| 12.58555761211163|2181.6152515827944| 421.247905943133|  1132.46212176534|382.3297528316098|1.8998217183639696|115395.61587441359|\n",
      "|    min|            -124.35|            32.54|               1.0|               2.0|              1.0|               3.0|              1.0|            0.4999|           14999.0|\n",
      "|    max|            -114.31|            41.95|              52.0|           39320.0|           6445.0|           35682.0|           6082.0|           15.0001|          500001.0|\n",
      "+-------+-------------------+-----------------+------------------+------------------+-----------------+------------------+-----------------+------------------+------------------+\n",
      "\n"
     ]
    }
   ],
   "source": [
    "# select columns\n",
    "df.describe().show(truncate=True)"
   ]
  },
  {
   "cell_type": "markdown",
   "metadata": {},
   "source": [
    "## 2. Feature Engineering\n",
    "\n",
    "Let's add some extra features:\n",
    "\n",
    "ln(MEDIAN AGE)\n",
    "ln(TOTAL ROOMS/ POPULATION)\n",
    "ln(BEDROOMS/ POPULATION) \n",
    "ln(POPULATION/ HOUSEHOLDS)\n",
    "ln(HOUSEHOLDS)"
   ]
  },
  {
   "cell_type": "code",
   "execution_count": 10,
   "metadata": {},
   "outputs": [],
   "source": [
    "# manipulate column data\n",
    "# need to import pyspark.sql.functions to access the math functions\n",
    "# add the new columns to the dataframe\n",
    "\n",
    "df = df.withColumn(\"lnHouseMedianAge\", log(col('houseMedianAge'))) \\\n",
    "        .withColumn(\"lnTotalRoomsPerCapita\", log(col('totalRooms') / col('population'))) \\\n",
    "        .withColumn(\"lnBedRoomsPerCapita\", log(col('totalBedRooms') / col('population'))) \\\n",
    "        .withColumn(\"lnPopulationHouseholds\", log(col('population') / col('households'))) \\\n",
    "        .withColumn(\"lnHouseholds\", log(col('households'))) \\\n",
    "        .withColumn(\"lnMedianHouseValue\", log(col('medianHouseValue')))"
   ]
  },
  {
   "cell_type": "code",
   "execution_count": 11,
   "metadata": {},
   "outputs": [
    {
     "data": {
      "text/plain": [
       "Row(lnMedianHouseValue=13.022764012181574, houseMedianAge=41.0, totalRooms=880.0, totalBedrooms=129.0, population=322.0, households=126.0, medianIncome=8.325200080871582, lnHouseMedianAge=3.713572066704308, lnTotalRoomsPerCapita=1.0053703619278438, lnBedRoomsPerCapita=-0.9147391411827362, lnPopulationHouseholds=0.9382696385929302, lnHouseholds=4.836281906951478, lnMedianHouseValue=13.022764012181574)"
      ]
     },
     "execution_count": 11,
     "metadata": {},
     "output_type": "execute_result"
    }
   ],
   "source": [
    "# reordering columns, get just the numerical values\n",
    "data_df = df.select(\"lnMedianHouseValue\",\"houseMedianAge\",\"totalRooms\", \\\n",
    "          \"totalBedrooms\",\"population\",\"households\",\"medianIncome\", \\\n",
    "            \"lnHouseMedianAge\", \"lnTotalRoomsPerCapita\", \"lnBedRoomsPerCapita\", \\\n",
    "            \"lnPopulationHouseholds\", \"lnHouseholds\", \"lnMedianHouseValue\")\n",
    "\n",
    "data_df.head()"
   ]
  },
  {
   "cell_type": "code",
   "execution_count": 12,
   "metadata": {},
   "outputs": [],
   "source": [
    "# convert the data into label, and a DenseVector of X features\n",
    "\n",
    "rdd1 = data_df.rdd.map(lambda x: (x[0],DenseVector(x[1:])))"
   ]
  },
  {
   "cell_type": "code",
   "execution_count": 13,
   "metadata": {},
   "outputs": [
    {
     "data": {
      "text/plain": [
       "Row(label=13.022764012181574, features=DenseVector([41.0, 880.0, 129.0, 322.0, 126.0, 8.3252, 3.7136, 1.0054, -0.9147, 0.9383, 4.8363, 13.0228]))"
      ]
     },
     "execution_count": 13,
     "metadata": {},
     "output_type": "execute_result"
    }
   ],
   "source": [
    "# create a new df for the label and features\n",
    "data_df = sc.createDataFrame(rdd1,[\"label\",\"features\"])\n",
    "data_df.head()"
   ]
  },
  {
   "cell_type": "code",
   "execution_count": 14,
   "metadata": {},
   "outputs": [],
   "source": [
    "# Split the data into train and test sets\n",
    "train_data, test_data = data_df.randomSplit([.8,.2],seed=1234)"
   ]
  },
  {
   "cell_type": "markdown",
   "metadata": {},
   "source": [
    "## 3. Model training"
   ]
  },
  {
   "cell_type": "markdown",
   "metadata": {},
   "source": [
    "### 3.1 Build the preprocessing and model pipeline"
   ]
  },
  {
   "cell_type": "code",
   "execution_count": 15,
   "metadata": {},
   "outputs": [],
   "source": [
    "# Initialize the `standardScaler`\n",
    "standardScaler = StandardScaler(inputCol=\"features\",outputCol=\"features_scaled\")"
   ]
  },
  {
   "cell_type": "code",
   "execution_count": 16,
   "metadata": {},
   "outputs": [],
   "source": [
    "# For the models, lets try linear regression\n",
    "\n",
    "# Initialize 'lr'\n",
    "lr = LinearRegression(labelCol=\"label\",maxIter=10)"
   ]
  },
  {
   "cell_type": "code",
   "execution_count": 17,
   "metadata": {},
   "outputs": [],
   "source": [
    "# Build the pipeline\n",
    "\n",
    "pipeline = Pipeline(stages=[\n",
    "                standardScaler,\n",
    "                lr])"
   ]
  },
  {
   "cell_type": "markdown",
   "metadata": {},
   "source": [
    "### 3.2 Setup the grid search crossvalidator"
   ]
  },
  {
   "cell_type": "code",
   "execution_count": 18,
   "metadata": {},
   "outputs": [],
   "source": [
    "# use grid search to find the best hyperparameters\n",
    "\n",
    "# build the grid\n",
    "paramGrid = ParamGridBuilder() \\\n",
    "            .addGrid(lr.regParam, [0.1 , 1.0, 10.0, 100.0]) \\\n",
    "            .addGrid(lr.elasticNetParam, [0.0, 1.0]) \\\n",
    "            .build()"
   ]
  },
  {
   "cell_type": "code",
   "execution_count": 19,
   "metadata": {},
   "outputs": [
    {
     "name": "stdout",
     "output_type": "stream",
     "text": [
      "The evaluation metric is: rmse\n"
     ]
    }
   ],
   "source": [
    "# define the evaluator function\n",
    "evaluator = RegressionEvaluator()\n",
    "\n",
    "print(\"The evaluation metric is:\",evaluator.getMetricName())"
   ]
  },
  {
   "cell_type": "code",
   "execution_count": 20,
   "metadata": {},
   "outputs": [],
   "source": [
    "# Instantiate the crossvalidator\n",
    "crossval = CrossValidator(estimator=pipeline,\n",
    "                          estimatorParamMaps=paramGrid,\n",
    "                          evaluator = RegressionEvaluator(),\n",
    "                          numFolds=5)"
   ]
  },
  {
   "cell_type": "markdown",
   "metadata": {},
   "source": [
    "### 3.3 Perform grid search"
   ]
  },
  {
   "cell_type": "code",
   "execution_count": 21,
   "metadata": {},
   "outputs": [],
   "source": [
    "# perform the grid search\n",
    "cvModel = crossval.fit(train_data)"
   ]
  },
  {
   "cell_type": "code",
   "execution_count": 33,
   "metadata": {},
   "outputs": [
    {
     "name": "stdout",
     "output_type": "stream",
     "text": [
      "(0.09508183824080504, {Param(parent='LinearRegression_4ba1b65c504689491bd6', name='regParam', doc='regularization parameter (>= 0).'): 0.1, Param(parent='LinearRegression_4ba1b65c504689491bd6', name='elasticNetParam', doc='the ElasticNet mixing parameter, in range [0, 1]. For alpha = 0, the penalty is an L2 penalty. For alpha = 1, it is an L1 penalty.'): 0.0}) \n",
      "\n",
      "(0.10002283787499881, {Param(parent='LinearRegression_4ba1b65c504689491bd6', name='regParam', doc='regularization parameter (>= 0).'): 0.1, Param(parent='LinearRegression_4ba1b65c504689491bd6', name='elasticNetParam', doc='the ElasticNet mixing parameter, in range [0, 1]. For alpha = 0, the penalty is an L2 penalty. For alpha = 1, it is an L1 penalty.'): 1.0}) \n",
      "\n",
      "(0.32434473041445716, {Param(parent='LinearRegression_4ba1b65c504689491bd6', name='regParam', doc='regularization parameter (>= 0).'): 1.0, Param(parent='LinearRegression_4ba1b65c504689491bd6', name='elasticNetParam', doc='the ElasticNet mixing parameter, in range [0, 1]. For alpha = 0, the penalty is an L2 penalty. For alpha = 1, it is an L1 penalty.'): 0.0}) \n",
      "\n",
      "(0.5706402315108607, {Param(parent='LinearRegression_4ba1b65c504689491bd6', name='regParam', doc='regularization parameter (>= 0).'): 1.0, Param(parent='LinearRegression_4ba1b65c504689491bd6', name='elasticNetParam', doc='the ElasticNet mixing parameter, in range [0, 1]. For alpha = 0, the penalty is an L2 penalty. For alpha = 1, it is an L1 penalty.'): 1.0}) \n",
      "\n",
      "(0.5227718040276241, {Param(parent='LinearRegression_4ba1b65c504689491bd6', name='regParam', doc='regularization parameter (>= 0).'): 10.0, Param(parent='LinearRegression_4ba1b65c504689491bd6', name='elasticNetParam', doc='the ElasticNet mixing parameter, in range [0, 1]. For alpha = 0, the penalty is an L2 penalty. For alpha = 1, it is an L1 penalty.'): 0.0}) \n",
      "\n",
      "(0.5706402315108607, {Param(parent='LinearRegression_4ba1b65c504689491bd6', name='regParam', doc='regularization parameter (>= 0).'): 10.0, Param(parent='LinearRegression_4ba1b65c504689491bd6', name='elasticNetParam', doc='the ElasticNet mixing parameter, in range [0, 1]. For alpha = 0, the penalty is an L2 penalty. For alpha = 1, it is an L1 penalty.'): 1.0}) \n",
      "\n",
      "(0.5652945484909967, {Param(parent='LinearRegression_4ba1b65c504689491bd6', name='regParam', doc='regularization parameter (>= 0).'): 100.0, Param(parent='LinearRegression_4ba1b65c504689491bd6', name='elasticNetParam', doc='the ElasticNet mixing parameter, in range [0, 1]. For alpha = 0, the penalty is an L2 penalty. For alpha = 1, it is an L1 penalty.'): 0.0}) \n",
      "\n",
      "(0.5706402315108607, {Param(parent='LinearRegression_4ba1b65c504689491bd6', name='regParam', doc='regularization parameter (>= 0).'): 100.0, Param(parent='LinearRegression_4ba1b65c504689491bd6', name='elasticNetParam', doc='the ElasticNet mixing parameter, in range [0, 1]. For alpha = 0, the penalty is an L2 penalty. For alpha = 1, it is an L1 penalty.'): 1.0}) \n",
      "\n"
     ]
    }
   ],
   "source": [
    "# print the results of the grid search\n",
    "\n",
    "for cur_val in zip(cvModel.avgMetrics, paramGrid):\n",
    "    print(cur_val,\"\\n\")"
   ]
  },
  {
   "cell_type": "markdown",
   "metadata": {},
   "source": [
    "The best performance (lowest RMSE) was observed for regParam = 0.1 and elasticNetParam = 0 (L2 penalty)"
   ]
  },
  {
   "cell_type": "code",
   "execution_count": 23,
   "metadata": {},
   "outputs": [],
   "source": [
    "# extract the best models\n",
    "bestPipeline = cvModel.bestModel\n",
    "bestModel = bestPipeline.stages[1]\n",
    "bestParams = bestModel.extractParamMap()"
   ]
  },
  {
   "cell_type": "code",
   "execution_count": 24,
   "metadata": {},
   "outputs": [
    {
     "data": {
      "text/plain": [
       "'elasticNetParam: the ElasticNet mixing parameter, in range [0, 1]. For alpha = 0, the penalty is an L2 penalty. For alpha = 1, it is an L1 penalty (default: 0.0, current: 0.0)'"
      ]
     },
     "execution_count": 24,
     "metadata": {},
     "output_type": "execute_result"
    }
   ],
   "source": [
    "bestModel.explainParam('elasticNetParam')"
   ]
  },
  {
   "cell_type": "code",
   "execution_count": 25,
   "metadata": {},
   "outputs": [
    {
     "data": {
      "text/plain": [
       "'regParam: regularization parameter (>= 0) (default: 0.0, current: 0.1)'"
      ]
     },
     "execution_count": 25,
     "metadata": {},
     "output_type": "execute_result"
    }
   ],
   "source": [
    "bestModel.explainParam('regParam')"
   ]
  },
  {
   "cell_type": "code",
   "execution_count": 26,
   "metadata": {},
   "outputs": [
    {
     "data": {
      "text/plain": [
       "DenseVector([0.0012, -0.0, 0.0, -0.0, 0.0, 0.0433, 0.0104, -0.0198, 0.0217, -0.0811, 0.0123, 0.7603])"
      ]
     },
     "execution_count": 26,
     "metadata": {},
     "output_type": "execute_result"
    }
   ],
   "source": [
    "# model weights\n",
    "bestModel.coefficients"
   ]
  },
  {
   "cell_type": "code",
   "execution_count": 27,
   "metadata": {},
   "outputs": [
    {
     "data": {
      "text/plain": [
       "2.696588819204139"
      ]
     },
     "execution_count": 27,
     "metadata": {},
     "output_type": "execute_result"
    }
   ],
   "source": [
    "# model intercept\n",
    "bestModel.intercept"
   ]
  },
  {
   "cell_type": "code",
   "execution_count": 28,
   "metadata": {},
   "outputs": [
    {
     "data": {
      "text/plain": [
       "0.9722558303382451"
      ]
     },
     "execution_count": 28,
     "metadata": {},
     "output_type": "execute_result"
    }
   ],
   "source": [
    "# the r^2 of the model\n",
    "bestModel.summary.r2"
   ]
  },
  {
   "cell_type": "markdown",
   "metadata": {},
   "source": [
    "### 3.4 Evaluation against test data"
   ]
  },
  {
   "cell_type": "code",
   "execution_count": 29,
   "metadata": {},
   "outputs": [
    {
     "data": {
      "text/plain": [
       "DataFrame[label: double, features: vector, features_scaled: vector, prediction: double]"
      ]
     },
     "execution_count": 29,
     "metadata": {},
     "output_type": "execute_result"
    }
   ],
   "source": [
    "# Generate predictions\n",
    "predicted = bestPipeline.transform(test_data)\n",
    "predicted"
   ]
  },
  {
   "cell_type": "code",
   "execution_count": 30,
   "metadata": {},
   "outputs": [
    {
     "name": "stdout",
     "output_type": "stream",
     "text": [
      "+------------------+------------------+\n",
      "|        prediction|             label|\n",
      "+------------------+------------------+\n",
      "|10.082336334196505|  9.61573881119536|\n",
      "|10.109147675523694|  9.61573881119536|\n",
      "|10.046641265243546|  9.61573881119536|\n",
      "|10.659304218229671| 10.25061708363133|\n",
      "|10.745509084272205|10.507803519389457|\n",
      "+------------------+------------------+\n",
      "only showing top 5 rows\n",
      "\n"
     ]
    }
   ],
   "source": [
    "# Extract the prediction and the \"known\" correct labels\n",
    "testSetDf = predicted.select('prediction','label')\n",
    "testSetDf.show(5)"
   ]
  },
  {
   "cell_type": "code",
   "execution_count": 31,
   "metadata": {},
   "outputs": [
    {
     "name": "stdout",
     "output_type": "stream",
     "text": [
      "Test set RMSE: 0.094\n",
      "Test set R2: 0.972\n",
      "Test set MAE: 0.073\n"
     ]
    }
   ],
   "source": [
    "# evaluate the model\n",
    "\n",
    "print(\"Test set RMSE: {:0.3f}\".format(evaluator.evaluate(testSetDf)))\n",
    "print(\"Test set R2: {:0.3f}\".format(evaluator.evaluate(testSetDf,{evaluator.metricName: \"r2\"})))\n",
    "print(\"Test set MAE: {:0.3f}\".format(evaluator.evaluate(testSetDf,{evaluator.metricName: \"mae\"})))"
   ]
  },
  {
   "cell_type": "markdown",
   "metadata": {},
   "source": [
    "## Cleaning up.  Stop the Spark session"
   ]
  },
  {
   "cell_type": "code",
   "execution_count": 32,
   "metadata": {},
   "outputs": [],
   "source": [
    "sc.stop()"
   ]
  }
 ],
 "metadata": {
  "kernelspec": {
   "display_name": "Python 3",
   "language": "python",
   "name": "python3"
  },
  "language_info": {
   "codemirror_mode": {
    "name": "ipython",
    "version": 3
   },
   "file_extension": ".py",
   "mimetype": "text/x-python",
   "name": "python",
   "nbconvert_exporter": "python",
   "pygments_lexer": "ipython3",
   "version": "3.6.6"
  }
 },
 "nbformat": 4,
 "nbformat_minor": 2
}
